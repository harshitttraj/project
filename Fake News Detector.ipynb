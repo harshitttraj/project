{
 "cells": [
  {
   "cell_type": "code",
   "execution_count": 7,
   "id": "daf83fcd",
   "metadata": {},
   "outputs": [],
   "source": [
    "import numpy as np\n",
    "import pandas as pd\n",
    "import re\n",
    "import nltk\n",
    "from nltk.corpus import stopwords # the for of in with\n",
    "from nltk.stem.porter import PorterStemmer # loved loving == love\n",
    "from sklearn.feature_extraction.text import TfidfVectorizer # loved = [0.0]\n",
    "from sklearn.model_selection import train_test_split\n",
    "from sklearn.linear_model import LogisticRegression\n",
    "from sklearn.metrics import accuracy_score"
   ]
  },
  {
   "cell_type": "code",
   "execution_count": 8,
   "id": "45e95a12",
   "metadata": {},
   "outputs": [],
   "source": [
    "news_df = pd.read_csv('train.csv')"
   ]
  },
  {
   "cell_type": "code",
   "execution_count": 9,
   "id": "46cf9073",
   "metadata": {},
   "outputs": [
    {
     "data": {
      "text/html": [
       "<div>\n",
       "<style scoped>\n",
       "    .dataframe tbody tr th:only-of-type {\n",
       "        vertical-align: middle;\n",
       "    }\n",
       "\n",
       "    .dataframe tbody tr th {\n",
       "        vertical-align: top;\n",
       "    }\n",
       "\n",
       "    .dataframe thead th {\n",
       "        text-align: right;\n",
       "    }\n",
       "</style>\n",
       "<table border=\"1\" class=\"dataframe\">\n",
       "  <thead>\n",
       "    <tr style=\"text-align: right;\">\n",
       "      <th></th>\n",
       "      <th>Unnamed: 0</th>\n",
       "      <th>title</th>\n",
       "      <th>text</th>\n",
       "      <th>label</th>\n",
       "    </tr>\n",
       "  </thead>\n",
       "  <tbody>\n",
       "    <tr>\n",
       "      <th>0</th>\n",
       "      <td>0</td>\n",
       "      <td>LAW ENFORCEMENT ON HIGH ALERT Following Threat...</td>\n",
       "      <td>No comment is expected from Barack Obama Membe...</td>\n",
       "      <td>1</td>\n",
       "    </tr>\n",
       "    <tr>\n",
       "      <th>1</th>\n",
       "      <td>1</td>\n",
       "      <td>NaN</td>\n",
       "      <td>Did they post their votes for Hillary already?</td>\n",
       "      <td>1</td>\n",
       "    </tr>\n",
       "    <tr>\n",
       "      <th>2</th>\n",
       "      <td>2</td>\n",
       "      <td>UNBELIEVABLE! OBAMA’S ATTORNEY GENERAL SAYS MO...</td>\n",
       "      <td>Now, most of the demonstrators gathered last ...</td>\n",
       "      <td>1</td>\n",
       "    </tr>\n",
       "    <tr>\n",
       "      <th>3</th>\n",
       "      <td>3</td>\n",
       "      <td>Bobby Jindal, raised Hindu, uses story of Chri...</td>\n",
       "      <td>A dozen politically active pastors came here f...</td>\n",
       "      <td>0</td>\n",
       "    </tr>\n",
       "    <tr>\n",
       "      <th>4</th>\n",
       "      <td>4</td>\n",
       "      <td>SATAN 2: Russia unvelis an image of its terrif...</td>\n",
       "      <td>The RS-28 Sarmat missile, dubbed Satan 2, will...</td>\n",
       "      <td>1</td>\n",
       "    </tr>\n",
       "  </tbody>\n",
       "</table>\n",
       "</div>"
      ],
      "text/plain": [
       "   Unnamed: 0                                              title  \\\n",
       "0           0  LAW ENFORCEMENT ON HIGH ALERT Following Threat...   \n",
       "1           1                                                NaN   \n",
       "2           2  UNBELIEVABLE! OBAMA’S ATTORNEY GENERAL SAYS MO...   \n",
       "3           3  Bobby Jindal, raised Hindu, uses story of Chri...   \n",
       "4           4  SATAN 2: Russia unvelis an image of its terrif...   \n",
       "\n",
       "                                                text  label  \n",
       "0  No comment is expected from Barack Obama Membe...      1  \n",
       "1     Did they post their votes for Hillary already?      1  \n",
       "2   Now, most of the demonstrators gathered last ...      1  \n",
       "3  A dozen politically active pastors came here f...      0  \n",
       "4  The RS-28 Sarmat missile, dubbed Satan 2, will...      1  "
      ]
     },
     "execution_count": 9,
     "metadata": {},
     "output_type": "execute_result"
    }
   ],
   "source": [
    "news_df.head()"
   ]
  },
  {
   "cell_type": "code",
   "execution_count": 10,
   "id": "f860ee2f",
   "metadata": {},
   "outputs": [
    {
     "data": {
      "text/plain": [
       "(72134, 4)"
      ]
     },
     "execution_count": 10,
     "metadata": {},
     "output_type": "execute_result"
    }
   ],
   "source": [
    "news_df.shape"
   ]
  },
  {
   "cell_type": "code",
   "execution_count": 11,
   "id": "0c627a2d",
   "metadata": {},
   "outputs": [
    {
     "data": {
      "text/plain": [
       "Unnamed: 0      0\n",
       "title         558\n",
       "text           39\n",
       "label           0\n",
       "dtype: int64"
      ]
     },
     "execution_count": 11,
     "metadata": {},
     "output_type": "execute_result"
    }
   ],
   "source": [
    "news_df.isna().sum()"
   ]
  },
  {
   "cell_type": "code",
   "execution_count": 12,
   "id": "91f77d59",
   "metadata": {},
   "outputs": [],
   "source": [
    "news_df = news_df.fillna(' ')"
   ]
  },
  {
   "cell_type": "code",
   "execution_count": 13,
   "id": "4e41be9f",
   "metadata": {},
   "outputs": [
    {
     "data": {
      "text/plain": [
       "Unnamed: 0    0\n",
       "title         0\n",
       "text          0\n",
       "label         0\n",
       "dtype: int64"
      ]
     },
     "execution_count": 13,
     "metadata": {},
     "output_type": "execute_result"
    }
   ],
   "source": [
    "news_df.isna().sum()"
   ]
  },
  {
   "cell_type": "code",
   "execution_count": 23,
   "id": "74ea0526",
   "metadata": {},
   "outputs": [],
   "source": [
    "news_df['content'] = news_df['text']+\" \"+news_df['title']"
   ]
  },
  {
   "cell_type": "code",
   "execution_count": 20,
   "id": "0dd45432",
   "metadata": {},
   "outputs": [
    {
     "data": {
      "text/html": [
       "<div>\n",
       "<style scoped>\n",
       "    .dataframe tbody tr th:only-of-type {\n",
       "        vertical-align: middle;\n",
       "    }\n",
       "\n",
       "    .dataframe tbody tr th {\n",
       "        vertical-align: top;\n",
       "    }\n",
       "\n",
       "    .dataframe thead th {\n",
       "        text-align: right;\n",
       "    }\n",
       "</style>\n",
       "<table border=\"1\" class=\"dataframe\">\n",
       "  <thead>\n",
       "    <tr style=\"text-align: right;\">\n",
       "      <th></th>\n",
       "      <th>Unnamed: 0</th>\n",
       "      <th>title</th>\n",
       "      <th>text</th>\n",
       "      <th>label</th>\n",
       "    </tr>\n",
       "  </thead>\n",
       "  <tbody>\n",
       "    <tr>\n",
       "      <th>0</th>\n",
       "      <td>0</td>\n",
       "      <td>LAW ENFORCEMENT ON HIGH ALERT Following Threat...</td>\n",
       "      <td>No comment is expected from Barack Obama Membe...</td>\n",
       "      <td>1</td>\n",
       "    </tr>\n",
       "    <tr>\n",
       "      <th>1</th>\n",
       "      <td>1</td>\n",
       "      <td></td>\n",
       "      <td>Did they post their votes for Hillary already?</td>\n",
       "      <td>1</td>\n",
       "    </tr>\n",
       "    <tr>\n",
       "      <th>2</th>\n",
       "      <td>2</td>\n",
       "      <td>UNBELIEVABLE! OBAMA’S ATTORNEY GENERAL SAYS MO...</td>\n",
       "      <td>Now, most of the demonstrators gathered last ...</td>\n",
       "      <td>1</td>\n",
       "    </tr>\n",
       "    <tr>\n",
       "      <th>3</th>\n",
       "      <td>3</td>\n",
       "      <td>Bobby Jindal, raised Hindu, uses story of Chri...</td>\n",
       "      <td>A dozen politically active pastors came here f...</td>\n",
       "      <td>0</td>\n",
       "    </tr>\n",
       "    <tr>\n",
       "      <th>4</th>\n",
       "      <td>4</td>\n",
       "      <td>SATAN 2: Russia unvelis an image of its terrif...</td>\n",
       "      <td>The RS-28 Sarmat missile, dubbed Satan 2, will...</td>\n",
       "      <td>1</td>\n",
       "    </tr>\n",
       "    <tr>\n",
       "      <th>...</th>\n",
       "      <td>...</td>\n",
       "      <td>...</td>\n",
       "      <td>...</td>\n",
       "      <td>...</td>\n",
       "    </tr>\n",
       "    <tr>\n",
       "      <th>72129</th>\n",
       "      <td>72129</td>\n",
       "      <td>Russians steal research on Trump in hack of U....</td>\n",
       "      <td>WASHINGTON (Reuters) - Hackers believed to be ...</td>\n",
       "      <td>0</td>\n",
       "    </tr>\n",
       "    <tr>\n",
       "      <th>72130</th>\n",
       "      <td>72130</td>\n",
       "      <td>WATCH: Giuliani Demands That Democrats Apolog...</td>\n",
       "      <td>You know, because in fantasyland Republicans n...</td>\n",
       "      <td>1</td>\n",
       "    </tr>\n",
       "    <tr>\n",
       "      <th>72131</th>\n",
       "      <td>72131</td>\n",
       "      <td>Migrants Refuse To Leave Train At Refugee Camp...</td>\n",
       "      <td>Migrants Refuse To Leave Train At Refugee Camp...</td>\n",
       "      <td>0</td>\n",
       "    </tr>\n",
       "    <tr>\n",
       "      <th>72132</th>\n",
       "      <td>72132</td>\n",
       "      <td>Trump tussle gives unpopular Mexican leader mu...</td>\n",
       "      <td>MEXICO CITY (Reuters) - Donald Trump’s combati...</td>\n",
       "      <td>0</td>\n",
       "    </tr>\n",
       "    <tr>\n",
       "      <th>72133</th>\n",
       "      <td>72133</td>\n",
       "      <td>Goldman Sachs Endorses Hillary Clinton For Pre...</td>\n",
       "      <td>Goldman Sachs Endorses Hillary Clinton For Pre...</td>\n",
       "      <td>1</td>\n",
       "    </tr>\n",
       "  </tbody>\n",
       "</table>\n",
       "<p>72134 rows × 4 columns</p>\n",
       "</div>"
      ],
      "text/plain": [
       "       Unnamed: 0                                              title  \\\n",
       "0               0  LAW ENFORCEMENT ON HIGH ALERT Following Threat...   \n",
       "1               1                                                      \n",
       "2               2  UNBELIEVABLE! OBAMA’S ATTORNEY GENERAL SAYS MO...   \n",
       "3               3  Bobby Jindal, raised Hindu, uses story of Chri...   \n",
       "4               4  SATAN 2: Russia unvelis an image of its terrif...   \n",
       "...           ...                                                ...   \n",
       "72129       72129  Russians steal research on Trump in hack of U....   \n",
       "72130       72130   WATCH: Giuliani Demands That Democrats Apolog...   \n",
       "72131       72131  Migrants Refuse To Leave Train At Refugee Camp...   \n",
       "72132       72132  Trump tussle gives unpopular Mexican leader mu...   \n",
       "72133       72133  Goldman Sachs Endorses Hillary Clinton For Pre...   \n",
       "\n",
       "                                                    text  label  \n",
       "0      No comment is expected from Barack Obama Membe...      1  \n",
       "1         Did they post their votes for Hillary already?      1  \n",
       "2       Now, most of the demonstrators gathered last ...      1  \n",
       "3      A dozen politically active pastors came here f...      0  \n",
       "4      The RS-28 Sarmat missile, dubbed Satan 2, will...      1  \n",
       "...                                                  ...    ...  \n",
       "72129  WASHINGTON (Reuters) - Hackers believed to be ...      0  \n",
       "72130  You know, because in fantasyland Republicans n...      1  \n",
       "72131  Migrants Refuse To Leave Train At Refugee Camp...      0  \n",
       "72132  MEXICO CITY (Reuters) - Donald Trump’s combati...      0  \n",
       "72133  Goldman Sachs Endorses Hillary Clinton For Pre...      1  \n",
       "\n",
       "[72134 rows x 4 columns]"
      ]
     },
     "execution_count": 20,
     "metadata": {},
     "output_type": "execute_result"
    }
   ],
   "source": [
    "news_df"
   ]
  },
  {
   "cell_type": "code",
   "execution_count": 24,
   "id": "0faf16c0",
   "metadata": {},
   "outputs": [
    {
     "name": "stdout",
     "output_type": "stream",
     "text": [
      "Index(['Unnamed: 0', 'title', 'text', 'label', 'content'], dtype='object')\n"
     ]
    }
   ],
   "source": [
    "print(news_df.columns)\n"
   ]
  },
  {
   "cell_type": "code",
   "execution_count": 25,
   "id": "1e58056c",
   "metadata": {},
   "outputs": [
    {
     "data": {
      "text/plain": [
       "0        No comment is expected from Barack Obama Membe...\n",
       "1         Did they post their votes for Hillary already?  \n",
       "2         Now, most of the demonstrators gathered last ...\n",
       "3        A dozen politically active pastors came here f...\n",
       "4        The RS-28 Sarmat missile, dubbed Satan 2, will...\n",
       "                               ...                        \n",
       "72129    WASHINGTON (Reuters) - Hackers believed to be ...\n",
       "72130    You know, because in fantasyland Republicans n...\n",
       "72131    Migrants Refuse To Leave Train At Refugee Camp...\n",
       "72132    MEXICO CITY (Reuters) - Donald Trump’s combati...\n",
       "72133    Goldman Sachs Endorses Hillary Clinton For Pre...\n",
       "Name: content, Length: 72134, dtype: object"
      ]
     },
     "execution_count": 25,
     "metadata": {},
     "output_type": "execute_result"
    }
   ],
   "source": [
    "news_df['content']"
   ]
  },
  {
   "cell_type": "code",
   "execution_count": 27,
   "id": "5179ceab",
   "metadata": {},
   "outputs": [],
   "source": [
    "# stemming\n",
    "ps = PorterStemmer()\n",
    "def stemming(content):\n",
    "    stemmed_content = re.sub('[^a-zA-Z]',' ',content)\n",
    "    stemmed_content = stemmed_content.lower()\n",
    "    stemmed_content = stemmed_content.split()\n",
    "    stemmed_content = [ps.stem(word) for word in stemmed_content if not word in stopwords.words('english')]\n",
    "    stemmed_content = ' '.join(stemmed_content)\n",
    "    return stemmed_content"
   ]
  },
  {
   "cell_type": "code",
   "execution_count": 32,
   "id": "00618821",
   "metadata": {},
   "outputs": [
    {
     "name": "stderr",
     "output_type": "stream",
     "text": [
      "[nltk_data] Downloading package stopwords to\n",
      "[nltk_data]     C:\\Users\\kingo\\AppData\\Roaming\\nltk_data...\n",
      "[nltk_data]   Package stopwords is already up-to-date!\n"
     ]
    },
    {
     "data": {
      "text/plain": [
       "\"from tqdm import tqdm\\ntqdm.pandas()\\n\\nnews_df['content'] = news_df['content'].progress_apply(stemming)\""
      ]
     },
     "execution_count": 32,
     "metadata": {},
     "output_type": "execute_result"
    }
   ],
   "source": [
    "import nltk\n",
    "nltk.download('stopwords')\n",
    "\n",
    "'''from tqdm import tqdm\n",
    "tqdm.pandas()\n",
    "\n",
    "news_df['content'] = news_df['content'].progress_apply(stemming)'''\n"
   ]
  },
  {
   "cell_type": "code",
   "execution_count": 36,
   "id": "00dee5c8",
   "metadata": {},
   "outputs": [
    {
     "name": "stderr",
     "output_type": "stream",
     "text": [
      "100%|██████████| 1000/1000 [00:00<00:00, 10194.65it/s]/s]\n",
      "C:\\Users\\kingo\\AppData\\Local\\Temp\\ipykernel_79988\\716017473.py:14: SettingWithCopyWarning: \n",
      "A value is trying to be set on a copy of a slice from a DataFrame.\n",
      "Try using .loc[row_indexer,col_indexer] = value instead\n",
      "\n",
      "See the caveats in the documentation: https://pandas.pydata.org/pandas-docs/stable/user_guide/indexing.html#returning-a-view-versus-a-copy\n",
      "  chunk['content'] = chunk['content'].progress_apply(stemming)\n",
      "100%|██████████| 1000/1000 [00:00<00:00, 7997.00it/s],  9.25it/s]\n",
      "100%|██████████| 1000/1000 [00:00<00:00, 7714.74it/s],  8.19it/s]\n",
      "100%|██████████| 1000/1000 [00:00<00:00, 9219.51it/s],  7.71it/s]\n",
      "100%|██████████| 1000/1000 [00:00<00:00, 8582.36it/s],  8.11it/s]\n",
      "100%|██████████| 1000/1000 [00:00<00:00, 8662.28it/s],  8.13it/s]\n",
      "100%|██████████| 1000/1000 [00:00<00:00, 7754.29it/s],  8.16it/s]\n",
      "100%|██████████| 1000/1000 [00:00<00:00, 8019.66it/s],  7.90it/s]\n",
      "100%|██████████| 1000/1000 [00:00<00:00, 6690.08it/s],  7.82it/s]\n",
      "100%|██████████| 1000/1000 [00:00<00:00, 8056.01it/s],  7.33it/s]\n",
      "100%|██████████| 1000/1000 [00:00<00:00, 8413.77it/s]8,  7.45it/s]\n",
      "100%|██████████| 1000/1000 [00:00<00:00, 8895.15it/s]8,  7.56it/s]\n",
      "100%|██████████| 1000/1000 [00:00<00:00, 9505.38it/s]7,  7.81it/s]\n",
      "100%|██████████| 1000/1000 [00:00<00:00, 9523.68it/s]7,  8.11it/s]\n",
      "100%|██████████| 1000/1000 [00:00<00:00, 8849.64it/s]7,  8.41it/s]\n",
      "100%|██████████| 1000/1000 [00:00<00:00, 7092.20it/s]6,  8.39it/s]\n",
      "100%|██████████| 1000/1000 [00:00<00:00, 6250.10it/s]7,  7.84it/s]\n",
      "100%|██████████| 1000/1000 [00:00<00:00, 13311.79it/s],  7.19it/s]\n",
      "100%|██████████| 1000/1000 [00:00<00:00, 13185.61it/s]\n",
      "100%|██████████| 1000/1000 [00:00<00:00, 14167.55it/s],  8.98it/s]\n",
      "100%|██████████| 1000/1000 [00:00<00:00, 6142.61it/s]\n",
      "100%|██████████| 1000/1000 [00:00<00:00, 7368.05it/s]5,  8.68it/s]\n",
      "100%|██████████| 1000/1000 [00:00<00:00, 8557.20it/s]6,  8.23it/s]\n",
      "100%|██████████| 1000/1000 [00:00<00:00, 7481.20it/s]6,  8.13it/s]\n",
      "100%|██████████| 1000/1000 [00:00<00:00, 8806.88it/s]6,  7.81it/s]\n",
      "100%|██████████| 1000/1000 [00:00<00:00, 9216.61it/s]6,  7.97it/s]\n",
      "100%|██████████| 1000/1000 [00:00<00:00, 8922.23it/s]5,  8.17it/s]\n",
      "100%|██████████| 1000/1000 [00:00<00:00, 8768.48it/s]5,  8.27it/s]\n",
      "100%|██████████| 1000/1000 [00:00<00:00, 11237.34it/s],  8.28it/s]\n",
      "100%|██████████| 1000/1000 [00:00<00:00, 11161.42it/s]\n",
      "100%|██████████| 1000/1000 [00:00<00:00, 3910.43it/s]4,  9.23it/s]\n",
      "100%|██████████| 1000/1000 [00:00<00:00, 5847.69it/s]6,  6.86it/s]\n",
      "100%|██████████| 1000/1000 [00:00<00:00, 8264.20it/s]6,  6.48it/s]\n",
      "100%|██████████| 1000/1000 [00:00<00:00, 7528.78it/s]5,  6.77it/s]\n",
      "100%|██████████| 1000/1000 [00:00<00:00, 7181.31it/s]5,  6.87it/s]\n",
      "100%|██████████| 1000/1000 [00:00<00:00, 5335.05it/s]5,  6.87it/s]\n",
      "100%|██████████| 1000/1000 [00:00<00:00, 14275.47it/s],  6.28it/s]\n",
      "100%|██████████| 1000/1000 [00:00<00:00, 16077.15it/s]\n",
      "100%|██████████| 1000/1000 [00:00<00:00, 17035.47it/s],  8.37it/s]\n",
      "100%|██████████| 1000/1000 [00:00<00:00, 19485.73it/s]\n",
      "100%|██████████| 1000/1000 [00:00<00:00, 21029.35it/s], 10.42it/s]\n",
      "100%|██████████| 1000/1000 [00:00<00:00, 18981.24it/s]\n",
      "100%|██████████| 1000/1000 [00:00<00:00, 18411.41it/s], 12.32it/s]\n",
      "100%|██████████| 1000/1000 [00:00<00:00, 21847.50it/s]\n",
      "100%|██████████| 1000/1000 [00:00<00:00, 17940.40it/s], 13.91it/s]\n",
      "100%|██████████| 1000/1000 [00:00<00:00, 15337.40it/s]\n",
      "100%|██████████| 1000/1000 [00:00<00:00, 16666.68it/s], 14.26it/s]\n",
      "100%|██████████| 1000/1000 [00:00<00:00, 11447.37it/s]\n",
      "100%|██████████| 1000/1000 [00:00<00:00, 20292.73it/s], 13.73it/s]\n",
      "100%|██████████| 1000/1000 [00:00<00:00, 20013.67it/s]\n",
      "100%|██████████| 1000/1000 [00:00<00:00, 19588.11it/s], 14.86it/s]\n",
      "100%|██████████| 1000/1000 [00:00<00:00, 15617.35it/s]\n",
      "100%|██████████| 1000/1000 [00:00<00:00, 14940.92it/s], 15.05it/s]\n",
      "100%|██████████| 1000/1000 [00:00<00:00, 5825.42it/s]\n",
      "100%|██████████| 1000/1000 [00:00<00:00, 6018.27it/s]1, 11.93it/s]\n",
      "100%|██████████| 1000/1000 [00:00<00:00, 6409.42it/s]\n",
      "100%|██████████| 1000/1000 [00:00<00:00, 6614.12it/s]1,  9.16it/s]\n",
      "100%|██████████| 1000/1000 [00:00<00:00, 5595.17it/s]\n",
      "100%|██████████| 1000/1000 [00:00<00:00, 6713.42it/s]1,  7.84it/s]\n",
      "100%|██████████| 1000/1000 [00:00<00:00, 11617.22it/s],  7.53it/s]\n",
      "100%|██████████| 1000/1000 [00:00<00:00, 25815.55it/s]\n",
      "100%|██████████| 1000/1000 [00:00<00:00, 20342.63it/s],  9.00it/s]\n",
      "100%|██████████| 1000/1000 [00:00<00:00, 23586.43it/s]\n",
      "100%|██████████| 1000/1000 [00:00<00:00, 23626.82it/s], 10.93it/s]\n",
      "100%|██████████| 1000/1000 [00:00<00:00, 20539.17it/s]\n",
      "100%|██████████| 1000/1000 [00:00<00:00, 23434.09it/s], 12.67it/s]\n",
      "100%|██████████| 1000/1000 [00:00<00:00, 23170.13it/s]\n",
      "100%|██████████| 1000/1000 [00:00<00:00, 26316.54it/s]\n",
      "100%|██████████| 1000/1000 [00:00<00:00, 17858.21it/s], 15.26it/s]\n",
      "100%|██████████| 1000/1000 [00:00<00:00, 21488.97it/s]\n",
      "100%|██████████| 1000/1000 [00:00<00:00, 20384.84it/s], 15.82it/s]\n",
      "100%|██████████| 1000/1000 [00:00<00:00, 17888.29it/s]\n",
      "100%|██████████| 134/134 [00:00<00:00, 16766.21it/s]00, 16.20it/s]\n",
      "Processing Chunks: 100%|██████████| 73/73 [00:07<00:00,  9.71it/s]\n"
     ]
    }
   ],
   "source": [
    "from tqdm import tqdm\n",
    "import pandas as pd\n",
    "\n",
    "# Initialize tqdm for pandas\n",
    "tqdm.pandas()\n",
    "\n",
    "# Define your stemming function here\n",
    "def stemming(text):\n",
    "    # Example stemming logic (replace with your actual logic)\n",
    "    return text.lower()  # Simple example of stemming\n",
    "\n",
    "def process_chunk(chunk):\n",
    "    # Apply the stemming function with progress tracking\n",
    "    chunk['content'] = chunk['content'].progress_apply(stemming)\n",
    "    return chunk\n",
    "\n",
    "chunk_size = 1000  # Adjust based on your system's memory capacity\n",
    "# Create chunks of the DataFrame\n",
    "chunks = [news_df[i:i + chunk_size] for i in range(0, news_df.shape[0], chunk_size)]\n",
    "\n",
    "processed_chunks = []\n",
    "\n",
    "# Wrap the iteration with tqdm for a progress bar\n",
    "for chunk in tqdm(chunks, desc=\"Processing Chunks\"):\n",
    "    processed_chunks.append(process_chunk(chunk))\n",
    "\n",
    "# Concatenate all processed chunks back into a single DataFrame\n",
    "news_df = pd.concat(processed_chunks, ignore_index=True)"
   ]
  },
  {
   "cell_type": "code",
   "execution_count": 50,
   "id": "8f279212",
   "metadata": {},
   "outputs": [],
   "source": [
    "#news_df['content'] = news_df['content'].apply(stemming)"
   ]
  },
  {
   "cell_type": "code",
   "execution_count": 37,
   "id": "ce87bd03",
   "metadata": {},
   "outputs": [
    {
     "data": {
      "text/plain": [
       "0        no comment is expected from barack obama membe...\n",
       "1         did they post their votes for hillary already?  \n",
       "2         now, most of the demonstrators gathered last ...\n",
       "3        a dozen politically active pastors came here f...\n",
       "4        the rs-28 sarmat missile, dubbed satan 2, will...\n",
       "                               ...                        \n",
       "72129    washington (reuters) - hackers believed to be ...\n",
       "72130    you know, because in fantasyland republicans n...\n",
       "72131    migrants refuse to leave train at refugee camp...\n",
       "72132    mexico city (reuters) - donald trump’s combati...\n",
       "72133    goldman sachs endorses hillary clinton for pre...\n",
       "Name: content, Length: 72134, dtype: object"
      ]
     },
     "execution_count": 37,
     "metadata": {},
     "output_type": "execute_result"
    }
   ],
   "source": [
    "news_df['content']"
   ]
  },
  {
   "cell_type": "code",
   "execution_count": 38,
   "id": "2769d499",
   "metadata": {},
   "outputs": [],
   "source": [
    "X = news_df['content'].values\n",
    "y = news_df['label'].values"
   ]
  },
  {
   "cell_type": "code",
   "execution_count": 39,
   "id": "303f201f",
   "metadata": {},
   "outputs": [
    {
     "name": "stdout",
     "output_type": "stream",
     "text": [
      "['no comment is expected from barack obama members of the #fyf911 or #fukyoflag and #blacklivesmatter movements called for the lynching and hanging of white people and cops. they encouraged others on a radio show tuesday night to  turn the tide  and kill white people and cops to send a message about the killing of black people in america.one of the f***yoflag organizers is called  sunshine.  she has a radio blog show hosted from texas called,  sunshine s f***ing opinion radio show. a snapshot of her #fyf911 @lolatwhitefear twitter page at 9:53 p.m. shows that she was urging supporters to  call now!! #fyf911 tonight we continue to dismantle the illusion of white below is a snapshot twitter radio call invite   #fyf911the radio show aired at 10:00 p.m. eastern standard time.during the show, callers clearly call for  lynching  and  killing  of white people.a 2:39 minute clip from the radio show can be heard here. it was provided to breitbart texas by someone who would like to be referred to as  hannibal.  he has already received death threats as a result of interrupting #fyf911 conference calls.an unidentified black man said  when those mother f**kers are by themselves, that s when when we should start f***ing them up. like they do us, when a bunch of them ni**ers takin  one of us out, that s how we should roll up.  he said,  cause we already roll up in gangs anyway. there should be six or seven black mother f**ckers, see that white person, and then lynch their ass. let s turn the tables. they conspired that if  cops started losing people,  then  there will be a state of emergency. he speculated that one of two things would happen,  a big-ass [r s?????] war,  or  ni**ers, they are going to start backin  up. we are already getting killed out here so what the f**k we got to lose? sunshine could be heard saying,  yep, that s true. that s so f**king true. he said,  we need to turn the tables on them. our kids are getting shot out here. somebody needs to become a sacrifice on their side.he said,  everybody ain t down for that s**t, or whatever, but like i say, everybody has a different position of war.  he continued,  because they don t give a f**k anyway.  he said again,  we might as well utilized them for that s**t and turn the tables on these n**ers. he said, that way  we can start lookin  like we ain t havin  that many casualties, and there can be more causalities on their side instead of ours. they are out their killing black people, black lives don t matter, that s what those mother f**kers   so we got to make it matter to them. find a mother f**ker that is alone. snap his ass, and then f***in hang him from a damn tree. take a picture of it and then send it to the mother f**kers. we  just need one example,  and  then people will start watchin .  this will turn the tables on s**t, he said. he said this will start  a trickle-down effect.  he said that when one white person is hung and then they are just  flat-hanging,  that will start the  trickle-down effect.  he continued,  black people are good at starting trends. he said that was how  to get the upper-hand. another black man spoke up saying they needed to kill  cops that are killing us. the first black male said,  that will be the best method right there. breitbart texas previously reported how sunshine was upset when  racist white people  infiltrated and disrupted one of her conference calls. she subsequently released the phone number of one of the infiltrators. the veteran immediately started receiving threatening calls.one of the #f***yoflag movement supporters allegedly told a veteran who infiltrated their publicly posted conference call,  we are going to rape and gut your pregnant wife, and your f***ing piece of sh*t unborn creature will be hung from a tree. breitbart texas previously encountered sunshine at a sandra bland protest at the waller county jail in texas, where she said all white people should be killed. she told journalists and photographers,  you see this nappy-ass hair on my head?   that means i am one of those more militant negroes.  she said she was at the protest because  these redneck mother-f**kers murdered sandra bland because she had nappy hair like me. #fyf911 black radicals say they will be holding the  imperial powers  that are actually responsible for the terrorist attacks on september 11th accountable on that day, as reported by breitbart texas. there are several websites and twitter handles for the movement. palmetto star  describes himself as one of the head organizers. he said in a youtube video that supporters will be burning their symbols of  the illusion of their superiority,  their  false white supremacy,  like the american flag, the british flag, police uniforms, and ku klux klan hoods.sierra mcgrone or  nocturnus libertus  posted,  you too can help a young afrikan clean their a** with the rag of oppression.  she posted two photos, one that appears to be herself, and a photo of a black man, wiping their naked butts with the american flag.for entire story: breitbart news law enforcement on high alert following threats against cops and whites on 9-11by #blacklivesmatter and #fyf911 terrorists [video]'\n",
      " 'did they post their votes for hillary already?  '\n",
      " ' now, most of the demonstrators gathered last night were exercising their constitutional and protected right to peaceful protest in order to raise issues and create change.    loretta lynch aka eric holder in a skirt unbelievable! obama’s attorney general says most charlotte rioters were “peaceful” protesters…in her home state of north carolina [video]'\n",
      " ...\n",
      " 'migrants refuse to leave train at refugee camp in hungary\\n\\nthousands of migrants flooded into a train station in the hungarian capital thursday after police lifted a two-day blockade, but some who boarded a train they thought was going to germany ended up instead at a refugee camp just miles from budapest.\\n\\nthe associated press reports that \"excited migrants piled into a newly arrived train at the keleti station in hungary\\'s capital despite announcements in hungarian and english that all services from the station to western europe had been canceled. a statement on the main departures board said no more trains to austria or germany would depart \\'due to safety reasons until further notice!\\'\\n\\n\"many migrants, who couldn\\'t understand either language and were receiving no advice from hungarian officials, scrambled aboard in a standing-room-only crush and hoped for the best,\" the ap said.\\n\\nscuffles broke out when police ordered the passengers off the train at bicske, according to the bbc.\\n\\nmeanwhile, hungary\\'s prime minister says his country is doing all it can to manage a growing migrant crisis, even as european officials said they will meet this month in brussels to discuss an effort to \"strengthen the european response\" to the situation.\\n\\nviktor orban said the influx of refugees into his country is really \"a german problem\" because that is the intended destination for most of them. hungarians, along with other europeans, are \"full of fear\" he says, because \"they see that the european leaders, among them the prime ministers, are not able to control the situation.\"\\n\\n\"if we would create an image ... just come because we are ready to accept everybody, that would be a moral failure, because that is not the case,\" orban said after a meeting with european parliament president martin schulz, according to the washington post. \"the moral human thing is to make clear, please don\\'t come. why do you have to go from turkey to europe? turkey is a safe country. stay there. it\\'s risky to come.\"\\n\\nmeanwhile, voice of america reports that british, french and german officials have called for urgent action and plan to hold talks on sept. 14 in brussels to address the crisis.\\n\\nvoa reports: \"the three ministers also called for better processing of migrants in italy and greece.\"\\n\\nas we\\'ve reported, the united nations believes that more than 300,000 migrants have set out for europe from north africa and the middle east on the mediterranean sea so far this year, a 40 percent increase on all of last year.\\n\\nas npr\\'s middle east editor larry kaplow writes: \"on any given day now, hundreds of people, perhaps thousands, are drifting in ships or clinging to boats that are little more than inflatable rafts. they go in other ways, too. jumping fences in morocco to get to spanish territory. cramming into trucks from turkey. riding trains across europe.\" migrants refuse to leave train at refugee camp in hungary'\n",
      " 'mexico city (reuters) - donald trump’s combative style has buffeted mexico’s president for months, but deeply unpopular enrique pena nieto may end up thanking the new u.s. president for prompting offended mexicans to rally behind their leader.  from billionaire business magnate carlos slim to political opponents, there has been a groundswell of support for pena nieto, who has cut a lonely figure in months of bruising encounters with trump. often referred to by his initials epn, pena nieto is laboring under the worst approval ratings of any mexican president in decades due to discontent over corruption, gang violence, sluggish growth and a jump in fuel prices.     trump’s threats to scrap the nafta trade deal with mexico and build a border wall have caused anger and left mexicans feeling fearful for the future. his challenge to pena nieto on thursday - saying he should skip a planned summit between the two leaders if mexico wasn’t willing to pay for the wall - was the final straw. pena nieto replied a couple of hours later that he had canceled his meeting with trump, one of the president’s biggest ever hits on twitter, getting more “likes” than when he personally broke news of the capture of notorious drug lord joaquin “el chapo” guzman in january of last year. “bravo epn!,” cheered former president vicente fox, who had initially condemned pena nieto for inviting trump to mexico for talks last august, and who has waged a colorful and expletive-ridden campaign against the republican on twitter. pena nieto and trump talked for about an hour by phone on friday, pledging to work out their differences and agreeing not to speak about the wall in public for now. meanwhile, calls for unity grew in mexico, led by slim, a normally media-shy 76-year-old who gave a 90-minute news conference in support of the government on friday. “this is the most surprising example of national unity i’ve seen in my life,” said slim, who spent several years in the past decade as the world’s richest man. “we have to back the president of mexico so he can defend our national interests.” senior opposition leaders also urged a common front. “it’s time to show unity and our commitment to mexico,” alejandra barrales, head of the center-left party of the democratic revolution (prd), said on twitter. pena nieto’s credibility has been battered by a widespread public perception that he has failed to battle corruption and indeed even encouraged it since a conflict-of-interest row embroiled him, his wife and a top minister in late 2014. some opposition critics fear the government will try to use trump as a screen to distract from its failings. however, two senior officials told reuters they hoped pena nieto would seize the moment to act quickly and decisively to improve his image. expressions of dismay at trump’s behavior towards mexico have almost become a national pastime, and talk of boycotts against u.s. companies is gathering steam on social media. slim, when asked about boycotting at his news conference, said it wasn’t a good idea to turn on u.s. companies, which are creating jobs in mexico. some foreign companies voiced support for mexico too. “i feel mexico is being subjected to terror at the moment,” said andreas schindler, co-owner of german fruit wholesaler don limon’s parent pilz schindler, by phone from hamburg. “we’re right behind mexico.”  trump tussle gives unpopular mexican leader much-needed shot in arm'\n",
      " 'goldman sachs endorses hillary clinton for president for goldman sachs, was there really any other choice this cycle? | october 27, 2016 be sociable, share! lloyd blankfein, ceo of goldman sachs, is greeted by hillary clinton at a panel discussion at the clinton global initiative, sept. 24, 2014 in new york. \\npublished in partnership with shadowproof . \\nhe’s with her. on sunday, former secretary of state hillary clinton earned the endorsement of goldman sachs ceo lloyd blankfein —an endorsement she had been working toward for years. \\nas was revealed by wikileaks, hillary clinton spent the run up to her presidential campaign giving speeches to goldman sachs and other wall street banks, where she praised their talents and explained her positions on financial regulation. \\non october 24, 2013, clinton told goldman sachs that dodd-frank had to be done mostly for “political reasons” because congress needed to look like it was doing something about the crisis. she said, “there’s nothing magic about regulations, too much is bad, too little is bad. how do you get to the golden key, how do we figure out what works? and the people that know the industry better than anybody are the people who work in the industry.” \\nyes, she essentially endorsed wall street writing the rules because wall street knows its business best and complained to goldman sachs that regulations had frightened bankers. \\n“i mean, right now, there are so many places in our country where the banks are not doing what they need to do because they’re scared of regulations, they’re scared of the other shoe dropping, they’re just plain scared, so credit is not flowing the way it needs to to restart economic growth,” clinton said. “so people are, you know, a little — they’re still uncertain, and they’re uncertain both because they don’t know what might come next in terms of regulations, but they’re also uncertain because of changes in a global economy that we’re only beginning to take hold of.” \\nmusic to wall street’s ears. for goldman sachs, was there really any other choice this cycle? after all, they did pay hillary clinton $675,000 for those three speeches, and have generously supported her political career. \\ndespite her private comments to goldman sachs, hillary clinton has taken a tough public position on wall street during the campaign, likely due to senator bernie sanders’ success in the primaries. of course, wikileaks also revealed that clinton told the national multi-housing council in a private speech that “you need both a public and a private position.” \\nso the real question is, what do blankfein and goldman want in return and what is clinton’s private position on giving it to them? be sociable, share! goldman sachs endorses hillary clinton for president']\n"
     ]
    }
   ],
   "source": [
    "print(X)"
   ]
  },
  {
   "cell_type": "code",
   "execution_count": 40,
   "id": "6d8e7e2b",
   "metadata": {},
   "outputs": [],
   "source": [
    "vector = TfidfVectorizer()\n",
    "vector.fit(X)\n",
    "X = vector.transform(X)"
   ]
  },
  {
   "cell_type": "code",
   "execution_count": 41,
   "id": "4c0251c3",
   "metadata": {},
   "outputs": [
    {
     "name": "stdout",
     "output_type": "stream",
     "text": [
      "<Compressed Sparse Row sparse matrix of dtype 'float64'\n",
      "\twith 18697115 stored elements and shape (72134, 244445)>\n",
      "  Coords\tValues\n",
      "  (0, 0)\t0.028754657559453688\n",
      "  (0, 702)\t0.01514038493339824\n",
      "  (0, 1113)\t0.058764278439465925\n",
      "  (0, 1133)\t0.03272001544748171\n",
      "  (0, 6863)\t0.02719780921590389\n",
      "  (0, 7809)\t0.02766015739548307\n",
      "  (0, 11399)\t0.008039579175805557\n",
      "  (0, 11918)\t0.02664793015402819\n",
      "  (0, 12445)\t0.01607833858155022\n",
      "  (0, 13637)\t0.050535248234163575\n",
      "  (0, 13742)\t0.014877720125122356\n",
      "  (0, 13745)\t0.010893290416752114\n",
      "  (0, 14376)\t0.06639273567371945\n",
      "  (0, 14440)\t0.030332602541828364\n",
      "  (0, 15338)\t0.02844638435420013\n",
      "  (0, 15737)\t0.008850392625682735\n",
      "  (0, 15795)\t0.024121940401104467\n",
      "  (0, 16138)\t0.020962642941426864\n",
      "  (0, 16224)\t0.04438960070472016\n",
      "  (0, 16568)\t0.017814233138895314\n",
      "  (0, 16892)\t0.013342723006182703\n",
      "  (0, 16911)\t0.02432688839564493\n",
      "  (0, 17373)\t0.007095596764324894\n",
      "  (0, 17593)\t0.12023633042335953\n",
      "  (0, 18416)\t0.012824722860673366\n",
      "  :\t:\n",
      "  (72133, 195592)\t0.11113653495531754\n",
      "  (72133, 195852)\t0.03246316327213167\n",
      "  (72133, 196179)\t0.04287065710966495\n",
      "  (72133, 196635)\t0.03276615056560629\n",
      "  (72133, 196717)\t0.027690550169474533\n",
      "  (72133, 201596)\t0.1316958496022365\n",
      "  (72133, 203718)\t0.013397281838278471\n",
      "  (72133, 209309)\t0.13697309021664963\n",
      "  (72133, 209523)\t0.019450507586478528\n",
      "  (72133, 209788)\t0.04013022526304907\n",
      "  (72133, 210120)\t0.017777195247504225\n",
      "  (72133, 210284)\t0.024383979827771185\n",
      "  (72133, 211367)\t0.06663027802950018\n",
      "  (72133, 211465)\t0.03446116903026456\n",
      "  (72133, 211775)\t0.011034598515672737\n",
      "  (72133, 212108)\t0.06996348655183482\n",
      "  (72133, 212859)\t0.018529307212998603\n",
      "  (72133, 213571)\t0.019983387101009657\n",
      "  (72133, 213598)\t0.023320726699711056\n",
      "  (72133, 213622)\t0.031314641687121\n",
      "  (72133, 214017)\t0.03354007924506176\n",
      "  (72133, 215682)\t0.016726040821659124\n",
      "  (72133, 215860)\t0.029940595426359833\n",
      "  (72133, 216294)\t0.01951167661135135\n",
      "  (72133, 216354)\t0.04244397639867338\n"
     ]
    }
   ],
   "source": [
    "print(X)"
   ]
  },
  {
   "cell_type": "code",
   "execution_count": 42,
   "id": "bb5c157e",
   "metadata": {},
   "outputs": [],
   "source": [
    "X_train, X_test, y_train, y_test = train_test_split(X, y, test_size=0.2,stratify=y, random_state=1)"
   ]
  },
  {
   "cell_type": "code",
   "execution_count": 43,
   "id": "1facf3ee",
   "metadata": {},
   "outputs": [
    {
     "data": {
      "text/plain": [
       "(57707, 244445)"
      ]
     },
     "execution_count": 43,
     "metadata": {},
     "output_type": "execute_result"
    }
   ],
   "source": [
    "X_train.shape"
   ]
  },
  {
   "cell_type": "code",
   "execution_count": 44,
   "id": "5d26cdde",
   "metadata": {},
   "outputs": [
    {
     "data": {
      "text/plain": [
       "(14427, 244445)"
      ]
     },
     "execution_count": 44,
     "metadata": {},
     "output_type": "execute_result"
    }
   ],
   "source": [
    "X_test.shape"
   ]
  },
  {
   "cell_type": "code",
   "execution_count": 45,
   "id": "3af4f11e",
   "metadata": {},
   "outputs": [
    {
     "data": {
      "text/html": [
       "<style>#sk-container-id-1 {\n",
       "  /* Definition of color scheme common for light and dark mode */\n",
       "  --sklearn-color-text: black;\n",
       "  --sklearn-color-line: gray;\n",
       "  /* Definition of color scheme for unfitted estimators */\n",
       "  --sklearn-color-unfitted-level-0: #fff5e6;\n",
       "  --sklearn-color-unfitted-level-1: #f6e4d2;\n",
       "  --sklearn-color-unfitted-level-2: #ffe0b3;\n",
       "  --sklearn-color-unfitted-level-3: chocolate;\n",
       "  /* Definition of color scheme for fitted estimators */\n",
       "  --sklearn-color-fitted-level-0: #f0f8ff;\n",
       "  --sklearn-color-fitted-level-1: #d4ebff;\n",
       "  --sklearn-color-fitted-level-2: #b3dbfd;\n",
       "  --sklearn-color-fitted-level-3: cornflowerblue;\n",
       "\n",
       "  /* Specific color for light theme */\n",
       "  --sklearn-color-text-on-default-background: var(--sg-text-color, var(--theme-code-foreground, var(--jp-content-font-color1, black)));\n",
       "  --sklearn-color-background: var(--sg-background-color, var(--theme-background, var(--jp-layout-color0, white)));\n",
       "  --sklearn-color-border-box: var(--sg-text-color, var(--theme-code-foreground, var(--jp-content-font-color1, black)));\n",
       "  --sklearn-color-icon: #696969;\n",
       "\n",
       "  @media (prefers-color-scheme: dark) {\n",
       "    /* Redefinition of color scheme for dark theme */\n",
       "    --sklearn-color-text-on-default-background: var(--sg-text-color, var(--theme-code-foreground, var(--jp-content-font-color1, white)));\n",
       "    --sklearn-color-background: var(--sg-background-color, var(--theme-background, var(--jp-layout-color0, #111)));\n",
       "    --sklearn-color-border-box: var(--sg-text-color, var(--theme-code-foreground, var(--jp-content-font-color1, white)));\n",
       "    --sklearn-color-icon: #878787;\n",
       "  }\n",
       "}\n",
       "\n",
       "#sk-container-id-1 {\n",
       "  color: var(--sklearn-color-text);\n",
       "}\n",
       "\n",
       "#sk-container-id-1 pre {\n",
       "  padding: 0;\n",
       "}\n",
       "\n",
       "#sk-container-id-1 input.sk-hidden--visually {\n",
       "  border: 0;\n",
       "  clip: rect(1px 1px 1px 1px);\n",
       "  clip: rect(1px, 1px, 1px, 1px);\n",
       "  height: 1px;\n",
       "  margin: -1px;\n",
       "  overflow: hidden;\n",
       "  padding: 0;\n",
       "  position: absolute;\n",
       "  width: 1px;\n",
       "}\n",
       "\n",
       "#sk-container-id-1 div.sk-dashed-wrapped {\n",
       "  border: 1px dashed var(--sklearn-color-line);\n",
       "  margin: 0 0.4em 0.5em 0.4em;\n",
       "  box-sizing: border-box;\n",
       "  padding-bottom: 0.4em;\n",
       "  background-color: var(--sklearn-color-background);\n",
       "}\n",
       "\n",
       "#sk-container-id-1 div.sk-container {\n",
       "  /* jupyter's `normalize.less` sets `[hidden] { display: none; }`\n",
       "     but bootstrap.min.css set `[hidden] { display: none !important; }`\n",
       "     so we also need the `!important` here to be able to override the\n",
       "     default hidden behavior on the sphinx rendered scikit-learn.org.\n",
       "     See: https://github.com/scikit-learn/scikit-learn/issues/21755 */\n",
       "  display: inline-block !important;\n",
       "  position: relative;\n",
       "}\n",
       "\n",
       "#sk-container-id-1 div.sk-text-repr-fallback {\n",
       "  display: none;\n",
       "}\n",
       "\n",
       "div.sk-parallel-item,\n",
       "div.sk-serial,\n",
       "div.sk-item {\n",
       "  /* draw centered vertical line to link estimators */\n",
       "  background-image: linear-gradient(var(--sklearn-color-text-on-default-background), var(--sklearn-color-text-on-default-background));\n",
       "  background-size: 2px 100%;\n",
       "  background-repeat: no-repeat;\n",
       "  background-position: center center;\n",
       "}\n",
       "\n",
       "/* Parallel-specific style estimator block */\n",
       "\n",
       "#sk-container-id-1 div.sk-parallel-item::after {\n",
       "  content: \"\";\n",
       "  width: 100%;\n",
       "  border-bottom: 2px solid var(--sklearn-color-text-on-default-background);\n",
       "  flex-grow: 1;\n",
       "}\n",
       "\n",
       "#sk-container-id-1 div.sk-parallel {\n",
       "  display: flex;\n",
       "  align-items: stretch;\n",
       "  justify-content: center;\n",
       "  background-color: var(--sklearn-color-background);\n",
       "  position: relative;\n",
       "}\n",
       "\n",
       "#sk-container-id-1 div.sk-parallel-item {\n",
       "  display: flex;\n",
       "  flex-direction: column;\n",
       "}\n",
       "\n",
       "#sk-container-id-1 div.sk-parallel-item:first-child::after {\n",
       "  align-self: flex-end;\n",
       "  width: 50%;\n",
       "}\n",
       "\n",
       "#sk-container-id-1 div.sk-parallel-item:last-child::after {\n",
       "  align-self: flex-start;\n",
       "  width: 50%;\n",
       "}\n",
       "\n",
       "#sk-container-id-1 div.sk-parallel-item:only-child::after {\n",
       "  width: 0;\n",
       "}\n",
       "\n",
       "/* Serial-specific style estimator block */\n",
       "\n",
       "#sk-container-id-1 div.sk-serial {\n",
       "  display: flex;\n",
       "  flex-direction: column;\n",
       "  align-items: center;\n",
       "  background-color: var(--sklearn-color-background);\n",
       "  padding-right: 1em;\n",
       "  padding-left: 1em;\n",
       "}\n",
       "\n",
       "\n",
       "/* Toggleable style: style used for estimator/Pipeline/ColumnTransformer box that is\n",
       "clickable and can be expanded/collapsed.\n",
       "- Pipeline and ColumnTransformer use this feature and define the default style\n",
       "- Estimators will overwrite some part of the style using the `sk-estimator` class\n",
       "*/\n",
       "\n",
       "/* Pipeline and ColumnTransformer style (default) */\n",
       "\n",
       "#sk-container-id-1 div.sk-toggleable {\n",
       "  /* Default theme specific background. It is overwritten whether we have a\n",
       "  specific estimator or a Pipeline/ColumnTransformer */\n",
       "  background-color: var(--sklearn-color-background);\n",
       "}\n",
       "\n",
       "/* Toggleable label */\n",
       "#sk-container-id-1 label.sk-toggleable__label {\n",
       "  cursor: pointer;\n",
       "  display: block;\n",
       "  width: 100%;\n",
       "  margin-bottom: 0;\n",
       "  padding: 0.5em;\n",
       "  box-sizing: border-box;\n",
       "  text-align: center;\n",
       "}\n",
       "\n",
       "#sk-container-id-1 label.sk-toggleable__label-arrow:before {\n",
       "  /* Arrow on the left of the label */\n",
       "  content: \"▸\";\n",
       "  float: left;\n",
       "  margin-right: 0.25em;\n",
       "  color: var(--sklearn-color-icon);\n",
       "}\n",
       "\n",
       "#sk-container-id-1 label.sk-toggleable__label-arrow:hover:before {\n",
       "  color: var(--sklearn-color-text);\n",
       "}\n",
       "\n",
       "/* Toggleable content - dropdown */\n",
       "\n",
       "#sk-container-id-1 div.sk-toggleable__content {\n",
       "  max-height: 0;\n",
       "  max-width: 0;\n",
       "  overflow: hidden;\n",
       "  text-align: left;\n",
       "  /* unfitted */\n",
       "  background-color: var(--sklearn-color-unfitted-level-0);\n",
       "}\n",
       "\n",
       "#sk-container-id-1 div.sk-toggleable__content.fitted {\n",
       "  /* fitted */\n",
       "  background-color: var(--sklearn-color-fitted-level-0);\n",
       "}\n",
       "\n",
       "#sk-container-id-1 div.sk-toggleable__content pre {\n",
       "  margin: 0.2em;\n",
       "  border-radius: 0.25em;\n",
       "  color: var(--sklearn-color-text);\n",
       "  /* unfitted */\n",
       "  background-color: var(--sklearn-color-unfitted-level-0);\n",
       "}\n",
       "\n",
       "#sk-container-id-1 div.sk-toggleable__content.fitted pre {\n",
       "  /* unfitted */\n",
       "  background-color: var(--sklearn-color-fitted-level-0);\n",
       "}\n",
       "\n",
       "#sk-container-id-1 input.sk-toggleable__control:checked~div.sk-toggleable__content {\n",
       "  /* Expand drop-down */\n",
       "  max-height: 200px;\n",
       "  max-width: 100%;\n",
       "  overflow: auto;\n",
       "}\n",
       "\n",
       "#sk-container-id-1 input.sk-toggleable__control:checked~label.sk-toggleable__label-arrow:before {\n",
       "  content: \"▾\";\n",
       "}\n",
       "\n",
       "/* Pipeline/ColumnTransformer-specific style */\n",
       "\n",
       "#sk-container-id-1 div.sk-label input.sk-toggleable__control:checked~label.sk-toggleable__label {\n",
       "  color: var(--sklearn-color-text);\n",
       "  background-color: var(--sklearn-color-unfitted-level-2);\n",
       "}\n",
       "\n",
       "#sk-container-id-1 div.sk-label.fitted input.sk-toggleable__control:checked~label.sk-toggleable__label {\n",
       "  background-color: var(--sklearn-color-fitted-level-2);\n",
       "}\n",
       "\n",
       "/* Estimator-specific style */\n",
       "\n",
       "/* Colorize estimator box */\n",
       "#sk-container-id-1 div.sk-estimator input.sk-toggleable__control:checked~label.sk-toggleable__label {\n",
       "  /* unfitted */\n",
       "  background-color: var(--sklearn-color-unfitted-level-2);\n",
       "}\n",
       "\n",
       "#sk-container-id-1 div.sk-estimator.fitted input.sk-toggleable__control:checked~label.sk-toggleable__label {\n",
       "  /* fitted */\n",
       "  background-color: var(--sklearn-color-fitted-level-2);\n",
       "}\n",
       "\n",
       "#sk-container-id-1 div.sk-label label.sk-toggleable__label,\n",
       "#sk-container-id-1 div.sk-label label {\n",
       "  /* The background is the default theme color */\n",
       "  color: var(--sklearn-color-text-on-default-background);\n",
       "}\n",
       "\n",
       "/* On hover, darken the color of the background */\n",
       "#sk-container-id-1 div.sk-label:hover label.sk-toggleable__label {\n",
       "  color: var(--sklearn-color-text);\n",
       "  background-color: var(--sklearn-color-unfitted-level-2);\n",
       "}\n",
       "\n",
       "/* Label box, darken color on hover, fitted */\n",
       "#sk-container-id-1 div.sk-label.fitted:hover label.sk-toggleable__label.fitted {\n",
       "  color: var(--sklearn-color-text);\n",
       "  background-color: var(--sklearn-color-fitted-level-2);\n",
       "}\n",
       "\n",
       "/* Estimator label */\n",
       "\n",
       "#sk-container-id-1 div.sk-label label {\n",
       "  font-family: monospace;\n",
       "  font-weight: bold;\n",
       "  display: inline-block;\n",
       "  line-height: 1.2em;\n",
       "}\n",
       "\n",
       "#sk-container-id-1 div.sk-label-container {\n",
       "  text-align: center;\n",
       "}\n",
       "\n",
       "/* Estimator-specific */\n",
       "#sk-container-id-1 div.sk-estimator {\n",
       "  font-family: monospace;\n",
       "  border: 1px dotted var(--sklearn-color-border-box);\n",
       "  border-radius: 0.25em;\n",
       "  box-sizing: border-box;\n",
       "  margin-bottom: 0.5em;\n",
       "  /* unfitted */\n",
       "  background-color: var(--sklearn-color-unfitted-level-0);\n",
       "}\n",
       "\n",
       "#sk-container-id-1 div.sk-estimator.fitted {\n",
       "  /* fitted */\n",
       "  background-color: var(--sklearn-color-fitted-level-0);\n",
       "}\n",
       "\n",
       "/* on hover */\n",
       "#sk-container-id-1 div.sk-estimator:hover {\n",
       "  /* unfitted */\n",
       "  background-color: var(--sklearn-color-unfitted-level-2);\n",
       "}\n",
       "\n",
       "#sk-container-id-1 div.sk-estimator.fitted:hover {\n",
       "  /* fitted */\n",
       "  background-color: var(--sklearn-color-fitted-level-2);\n",
       "}\n",
       "\n",
       "/* Specification for estimator info (e.g. \"i\" and \"?\") */\n",
       "\n",
       "/* Common style for \"i\" and \"?\" */\n",
       "\n",
       ".sk-estimator-doc-link,\n",
       "a:link.sk-estimator-doc-link,\n",
       "a:visited.sk-estimator-doc-link {\n",
       "  float: right;\n",
       "  font-size: smaller;\n",
       "  line-height: 1em;\n",
       "  font-family: monospace;\n",
       "  background-color: var(--sklearn-color-background);\n",
       "  border-radius: 1em;\n",
       "  height: 1em;\n",
       "  width: 1em;\n",
       "  text-decoration: none !important;\n",
       "  margin-left: 1ex;\n",
       "  /* unfitted */\n",
       "  border: var(--sklearn-color-unfitted-level-1) 1pt solid;\n",
       "  color: var(--sklearn-color-unfitted-level-1);\n",
       "}\n",
       "\n",
       ".sk-estimator-doc-link.fitted,\n",
       "a:link.sk-estimator-doc-link.fitted,\n",
       "a:visited.sk-estimator-doc-link.fitted {\n",
       "  /* fitted */\n",
       "  border: var(--sklearn-color-fitted-level-1) 1pt solid;\n",
       "  color: var(--sklearn-color-fitted-level-1);\n",
       "}\n",
       "\n",
       "/* On hover */\n",
       "div.sk-estimator:hover .sk-estimator-doc-link:hover,\n",
       ".sk-estimator-doc-link:hover,\n",
       "div.sk-label-container:hover .sk-estimator-doc-link:hover,\n",
       ".sk-estimator-doc-link:hover {\n",
       "  /* unfitted */\n",
       "  background-color: var(--sklearn-color-unfitted-level-3);\n",
       "  color: var(--sklearn-color-background);\n",
       "  text-decoration: none;\n",
       "}\n",
       "\n",
       "div.sk-estimator.fitted:hover .sk-estimator-doc-link.fitted:hover,\n",
       ".sk-estimator-doc-link.fitted:hover,\n",
       "div.sk-label-container:hover .sk-estimator-doc-link.fitted:hover,\n",
       ".sk-estimator-doc-link.fitted:hover {\n",
       "  /* fitted */\n",
       "  background-color: var(--sklearn-color-fitted-level-3);\n",
       "  color: var(--sklearn-color-background);\n",
       "  text-decoration: none;\n",
       "}\n",
       "\n",
       "/* Span, style for the box shown on hovering the info icon */\n",
       ".sk-estimator-doc-link span {\n",
       "  display: none;\n",
       "  z-index: 9999;\n",
       "  position: relative;\n",
       "  font-weight: normal;\n",
       "  right: .2ex;\n",
       "  padding: .5ex;\n",
       "  margin: .5ex;\n",
       "  width: min-content;\n",
       "  min-width: 20ex;\n",
       "  max-width: 50ex;\n",
       "  color: var(--sklearn-color-text);\n",
       "  box-shadow: 2pt 2pt 4pt #999;\n",
       "  /* unfitted */\n",
       "  background: var(--sklearn-color-unfitted-level-0);\n",
       "  border: .5pt solid var(--sklearn-color-unfitted-level-3);\n",
       "}\n",
       "\n",
       ".sk-estimator-doc-link.fitted span {\n",
       "  /* fitted */\n",
       "  background: var(--sklearn-color-fitted-level-0);\n",
       "  border: var(--sklearn-color-fitted-level-3);\n",
       "}\n",
       "\n",
       ".sk-estimator-doc-link:hover span {\n",
       "  display: block;\n",
       "}\n",
       "\n",
       "/* \"?\"-specific style due to the `<a>` HTML tag */\n",
       "\n",
       "#sk-container-id-1 a.estimator_doc_link {\n",
       "  float: right;\n",
       "  font-size: 1rem;\n",
       "  line-height: 1em;\n",
       "  font-family: monospace;\n",
       "  background-color: var(--sklearn-color-background);\n",
       "  border-radius: 1rem;\n",
       "  height: 1rem;\n",
       "  width: 1rem;\n",
       "  text-decoration: none;\n",
       "  /* unfitted */\n",
       "  color: var(--sklearn-color-unfitted-level-1);\n",
       "  border: var(--sklearn-color-unfitted-level-1) 1pt solid;\n",
       "}\n",
       "\n",
       "#sk-container-id-1 a.estimator_doc_link.fitted {\n",
       "  /* fitted */\n",
       "  border: var(--sklearn-color-fitted-level-1) 1pt solid;\n",
       "  color: var(--sklearn-color-fitted-level-1);\n",
       "}\n",
       "\n",
       "/* On hover */\n",
       "#sk-container-id-1 a.estimator_doc_link:hover {\n",
       "  /* unfitted */\n",
       "  background-color: var(--sklearn-color-unfitted-level-3);\n",
       "  color: var(--sklearn-color-background);\n",
       "  text-decoration: none;\n",
       "}\n",
       "\n",
       "#sk-container-id-1 a.estimator_doc_link.fitted:hover {\n",
       "  /* fitted */\n",
       "  background-color: var(--sklearn-color-fitted-level-3);\n",
       "}\n",
       "</style><div id=\"sk-container-id-1\" class=\"sk-top-container\"><div class=\"sk-text-repr-fallback\"><pre>LogisticRegression()</pre><b>In a Jupyter environment, please rerun this cell to show the HTML representation or trust the notebook. <br />On GitHub, the HTML representation is unable to render, please try loading this page with nbviewer.org.</b></div><div class=\"sk-container\" hidden><div class=\"sk-item\"><div class=\"sk-estimator fitted sk-toggleable\"><input class=\"sk-toggleable__control sk-hidden--visually\" id=\"sk-estimator-id-1\" type=\"checkbox\" checked><label for=\"sk-estimator-id-1\" class=\"sk-toggleable__label fitted sk-toggleable__label-arrow fitted\">&nbsp;&nbsp;LogisticRegression<a class=\"sk-estimator-doc-link fitted\" rel=\"noreferrer\" target=\"_blank\" href=\"https://scikit-learn.org/1.5/modules/generated/sklearn.linear_model.LogisticRegression.html\">?<span>Documentation for LogisticRegression</span></a><span class=\"sk-estimator-doc-link fitted\">i<span>Fitted</span></span></label><div class=\"sk-toggleable__content fitted\"><pre>LogisticRegression()</pre></div> </div></div></div></div>"
      ],
      "text/plain": [
       "LogisticRegression()"
      ]
     },
     "execution_count": 45,
     "metadata": {},
     "output_type": "execute_result"
    }
   ],
   "source": [
    "model = LogisticRegression()\n",
    "model.fit(X_train,y_train)"
   ]
  },
  {
   "cell_type": "code",
   "execution_count": 46,
   "id": "215d3ca9",
   "metadata": {},
   "outputs": [
    {
     "name": "stdout",
     "output_type": "stream",
     "text": [
      "train accurracy : 0.9654981198121545\n"
     ]
    }
   ],
   "source": [
    "train_y_pred = model.predict(X_train)\n",
    "print(\"train accurracy :\",accuracy_score(train_y_pred,y_train))"
   ]
  },
  {
   "cell_type": "code",
   "execution_count": 47,
   "id": "6501c7d9",
   "metadata": {},
   "outputs": [
    {
     "name": "stdout",
     "output_type": "stream",
     "text": [
      "train accurracy : 0.9480141401538782\n"
     ]
    }
   ],
   "source": [
    "test_y_pred = model.predict(X_test)\n",
    "print(\"train accurracy :\",accuracy_score(test_y_pred,y_test))"
   ]
  },
  {
   "cell_type": "code",
   "execution_count": 48,
   "id": "9eea49f6",
   "metadata": {},
   "outputs": [
    {
     "name": "stdout",
     "output_type": "stream",
     "text": [
      "Fake news\n"
     ]
    }
   ],
   "source": [
    "# prediction system\n",
    "\n",
    "input_data = X_test[20]\n",
    "prediction = model.predict(input_data)\n",
    "if prediction[0] == 1:\n",
    "    print('Fake news')\n",
    "else:\n",
    "    print('Real news')"
   ]
  },
  {
   "cell_type": "code",
   "execution_count": 49,
   "id": "7d06657a",
   "metadata": {},
   "outputs": [
    {
     "data": {
      "text/plain": [
       "'wednesday 9 november 2016 by lucas wilde america gives grand piano to horse \\namerica has given a grand piano to a horse and is expecting some quality tunes. \\n“i’m particularly looking forward to beethoven’s ninth,” beamed horse supporter and piano enthusiast, jay cooper. \\n“a horse has never been given a piano before because, frankly, the establishment wouldn’t allow it. \\n“now, at last, change has come, and america will change for the better. \\n“there are a lot of doubters out there, and those doubters will soon be silenced by the graceful notes of chopin, mozart and maybe even little richard.” \\nhorse, dobbin williams, said, “i’m not really sure what’s expected of me here. \\n“i’m a horse. i am absolutely not qualified to play a piano. \\n“i mean… look at these hooves and the way i am in general. i can’t even sit on the chair properly. \\n“why on earth did anyone think this was a good idea?” \\ncooper grinned, “we did it. we’ve made pianos great again.” \\ndemocrat, elizabeth king, said “we wanted to get a pianist of low-to-medium standard for the piano. \\n“she wouldn’t have thumped out anything exciting, but it would have been perfectly reasonable background music. \\n“but the people have spoken, and the people wanted a horse. \\n“god bless america.” get the best newsthump stories in your mailbox every friday, for free! there are currently witterings below - why not add your own?  america gives grand piano to horse'"
      ]
     },
     "execution_count": 49,
     "metadata": {},
     "output_type": "execute_result"
    }
   ],
   "source": [
    "news_df['content'][20]"
   ]
  },
  {
   "cell_type": "code",
   "execution_count": null,
   "id": "9770dd14",
   "metadata": {},
   "outputs": [],
   "source": []
  }
 ],
 "metadata": {
  "kernelspec": {
   "display_name": "Python 3",
   "language": "python",
   "name": "python3"
  },
  "language_info": {
   "codemirror_mode": {
    "name": "ipython",
    "version": 3
   },
   "file_extension": ".py",
   "mimetype": "text/x-python",
   "name": "python",
   "nbconvert_exporter": "python",
   "pygments_lexer": "ipython3",
   "version": "3.11.9"
  }
 },
 "nbformat": 4,
 "nbformat_minor": 5
}
